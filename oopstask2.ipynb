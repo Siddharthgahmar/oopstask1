{
 "cells": [
  {
   "cell_type": "markdown",
   "id": "5541dcec-30e0-49fe-96ca-83a492c28075",
   "metadata": {},
   "source": [
    "Q1. Explain Class and Object with respect to Object-Oriented Programming. Give a suitable example."
   ]
  },
  {
   "cell_type": "markdown",
   "id": "246116d9-14ec-4406-9967-a50dc549dd05",
   "metadata": {},
   "source": [
    "Ans-In object-oriented programming (OOP), a class is a blueprint for creating objects. It defines the data and behavior that all objects of that class will share. An object is an instance of a class. It has its own unique data and behavior, which is defined by the class.\n",
    "\n",
    "A suitable example of a class is a car. A car class would define the data and behavior that all cars share, such as the number of wheels, the type of engine, and the ability to drive. An object of the car class would be a specific car, such as a Toyota Camry or a Ford Mustang. This car object would have its own unique data, such as its license plate number and its current location. It would also have its own unique behavior, such as its current speed and its current direction."
   ]
  },
  {
   "cell_type": "markdown",
   "id": "066030ce-fa3d-4196-b5ca-5fb34c9202ae",
   "metadata": {},
   "source": [
    "Q2. Name the four pillars of OOPs."
   ]
  },
  {
   "cell_type": "markdown",
   "id": "aa25e9b8-aaff-4031-95ad-135944dc9b6a",
   "metadata": {},
   "source": [
    "Ans-Four pillars of OOPs are\n",
    ".Abstraction\n",
    ".Encapsulation\n",
    ".Inheritance\n",
    ".Polymorphism"
   ]
  },
  {
   "cell_type": "markdown",
   "id": "7c8115dc-406b-48c8-af0b-7d8aa54814a3",
   "metadata": {},
   "source": [
    "Q3. Explain why the __init__() function is used. Give a suitable example."
   ]
  },
  {
   "cell_type": "markdown",
   "id": "90a41969-c42d-4a8f-aeda-5858ddd899f1",
   "metadata": {},
   "source": [
    "Ans-The __init__() function is used to initialize the attributes of an object when it is created. It is a special method that is called automatically when an object is created. The __init__() function is often used to assign default values to the object's attributes"
   ]
  },
  {
   "cell_type": "code",
   "execution_count": 1,
   "id": "82fa8d34-8813-4166-bb1e-0867cf2acaed",
   "metadata": {},
   "outputs": [],
   "source": [
    "def __init__(self, make, model, year, color, mileage):\n",
    "    self.make = make\n",
    "    self.model = model\n",
    "    self.year = year\n",
    "    self.color = color\n",
    "    self.mileage = mileage\n"
   ]
  },
  {
   "cell_type": "markdown",
   "id": "72caf15c-37ef-4de4-8b2d-e578626b5b65",
   "metadata": {},
   "source": [
    "Q4. Why self is used in OOPs?"
   ]
  },
  {
   "cell_type": "raw",
   "id": "06586eff-68b9-4891-b4c5-0e3f8a2e2ef3",
   "metadata": {},
   "source": [
    "Ans-Self is a special keyword used in object-oriented programming (OOP) to refer to the current instance of the class. It is used as the first argument in all methods of a class. The self keyword is not required in Python, but it is a good practice to use it to make the code more readable and maintainable."
   ]
  },
  {
   "cell_type": "markdown",
   "id": "4a1a3691-4c64-4a40-af2c-d98624bcdef6",
   "metadata": {},
   "source": [
    "Q5. What is inheritance? Give an example for each type of inheritance."
   ]
  },
  {
   "cell_type": "markdown",
   "id": "369b15e0-025c-4fa2-a16f-5fdf32213f99",
   "metadata": {},
   "source": [
    "Ans-Inheritance is a mechanism in object-oriented programming (OOP) that allows one class to inherit the attributes and methods of another class. The class that inherits the attributes and methods is called the subclass, and the class that is being inherited from is called the superclass.\n",
    "\n",
    "For ex\n",
    "(Single inheritance: The Animal class can be inherited from by the Mammal class, which can then be inherited from by the Dog class.\n",
    "Multiple inheritance: The Vehicle class can be inherited from by the Car class and the Truck class.\n",
    "Hierarchical inheritance: The Animal class can be inherited from by the Mammal class, the Bird class, and the Fish class. The Mammal class can then be inherited from by the Dog class, the Cat class, and the Elephant class.\n"
   ]
  },
  {
   "cell_type": "code",
   "execution_count": null,
   "id": "d2dfbac4-c4b1-4843-bcda-143ddac21270",
   "metadata": {},
   "outputs": [],
   "source": []
  },
  {
   "cell_type": "markdown",
   "id": "6976e590-293b-45d1-89a5-86355dedc999",
   "metadata": {},
   "source": []
  }
 ],
 "metadata": {
  "kernelspec": {
   "display_name": "Python 3 (ipykernel)",
   "language": "python",
   "name": "python3"
  },
  "language_info": {
   "codemirror_mode": {
    "name": "ipython",
    "version": 3
   },
   "file_extension": ".py",
   "mimetype": "text/x-python",
   "name": "python",
   "nbconvert_exporter": "python",
   "pygments_lexer": "ipython3",
   "version": "3.10.8"
  }
 },
 "nbformat": 4,
 "nbformat_minor": 5
}
