{
 "cells": [
  {
   "cell_type": "markdown",
   "id": "3e5b1b18-ccd0-4375-b4cd-36eda9032fd0",
   "metadata": {},
   "source": [
    "Ques1- Create a vehicle class with an init method having instance variables as name_of_vehicle, max_speed\n",
    "and average_of_vehicle. "
   ]
  },
  {
   "cell_type": "code",
   "execution_count": 4,
   "id": "ddb0094a-c8e0-42d8-b564-3038e7adb26b",
   "metadata": {},
   "outputs": [
    {
     "name": "stdout",
     "output_type": "stream",
     "text": [
      "Name of vehicle: Car\n",
      "Maximum speed: 120\n",
      "Average speed: 60\n"
     ]
    }
   ],
   "source": [
    "class Vehicle:\n",
    "\n",
    "    def __init__(self, name_of_vehicle, max_speed, average_of_vehicle):\n",
    "        self.name_of_vehicle = name_of_vehicle\n",
    "        self.max_speed = max_speed\n",
    "        self.average_of_vehicle = average_of_vehicle\n",
    "\n",
    "    def print_details(self):\n",
    "        print(f\"Name of vehicle: {self.name_of_vehicle}\")\n",
    "        print(f\"Maximum speed: {self.max_speed}\")\n",
    "        print(f\"Average speed: {self.average_of_vehicle}\")\n",
    "\n",
    "\n",
    "# Create a new vehicle object\n",
    "vehicle = Vehicle(\"Car\", 120, 60)\n",
    "\n",
    "# Print the details of the vehicle\n",
    "vehicle.print_details()\n"
   ]
  },
  {
   "cell_type": "raw",
   "id": "d3ade4a9-1fa5-417e-b3dd-1deca99be4a8",
   "metadata": {},
   "source": [
    "Q2.  Create a child class car from the vehicle class created in Que 1, which will inherit the vehicle class.\n",
    "Create a method named seating_capacity which takes capacity as an argument and returns the name of\n",
    "the vehicle and its seating capacity."
   ]
  },
  {
   "cell_type": "code",
   "execution_count": 7,
   "id": "14ce0a7e-1b2c-4619-bfd2-62d438e6f75d",
   "metadata": {},
   "outputs": [
    {
     "name": "stdout",
     "output_type": "stream",
     "text": [
      "The name of the vehicle is Car and its seating capacity is 5\n"
     ]
    }
   ],
   "source": [
    "class Car(Vehicle):\n",
    "\n",
    "    def __init__(self, name_of_vehicle, max_speed, average_of_vehicle, capacity):\n",
    "        super().__init__(name_of_vehicle, max_speed, average_of_vehicle)\n",
    "        self.capacity = capacity\n",
    "\n",
    "    def seating_capacity(self):\n",
    "        return f\"The name of the vehicle is {self.name_of_vehicle} and its seating capacity is {self.capacity}\"\n",
    "\n",
    "\n",
    "# Create a new car object\n",
    "car = Car(\"Car\", 120, 60, 5)\n",
    "\n",
    "# Print the seating capacity of the car\n",
    "print(car.seating_capacity())\n",
    "\n"
   ]
  },
  {
   "cell_type": "markdown",
   "id": "f456fd9e-5701-44ab-96ea-1e49feeebb12",
   "metadata": {},
   "source": [
    "Q3- What is multiple inheritance? Write a python code to demonstrate multiple inheritance"
   ]
  },
  {
   "cell_type": "markdown",
   "id": "af0e573a-12ad-4b11-87a1-9e202b50a151",
   "metadata": {},
   "source": [
    "Ans-Multiple inheritance is a feature in object-oriented programming that allows a class to inherit from multiple classes. This means that a class can inherit the methods and attributes of all of its parent classes"
   ]
  },
  {
   "cell_type": "code",
   "execution_count": 14,
   "id": "f8c35052-3f86-499e-bd3b-50f1b6cb51eb",
   "metadata": {},
   "outputs": [
    {
     "name": "stdout",
     "output_type": "stream",
     "text": [
      "A.__init__\n",
      "C.__init__\n",
      "C.ajay\n"
     ]
    }
   ],
   "source": [
    "class A:\n",
    "\n",
    "    def __init__(self):\n",
    "        print(\"A.__init__\")\n",
    "\n",
    "    def ajay(self):\n",
    "        print(\"A.ajay\")\n",
    "\n",
    "\n",
    "class B:\n",
    "\n",
    "    def __init__(self):\n",
    "        print(\"B.__init__\")\n",
    "\n",
    "    def ajay(self):\n",
    "        print(\"B.ajay\")\n",
    "\n",
    "\n",
    "class C(A, B):\n",
    "\n",
    "    def __init__(self):\n",
    "        super().__init__()\n",
    "        print(\"C.__init__\")\n",
    "\n",
    "    def ajay(self):\n",
    "        print(\"C.ajay\")\n",
    "\n",
    "\n",
    "# Create a new C object\n",
    "c = C()\n",
    "\n",
    "\n",
    "c.ajay()\n"
   ]
  },
  {
   "cell_type": "raw",
   "id": "bb9a3654-11c7-440c-9090-8350d13d90cf",
   "metadata": {},
   "source": [
    "Q4- What are getter and setter in python? Create a class and create a getter and a setter method in this\n",
    "class."
   ]
  },
  {
   "cell_type": "markdown",
   "id": "ebaea0ac-301f-47f6-abaa-ad1e073b5ec6",
   "metadata": {},
   "source": [
    "Ans-Getters and setters are methods in Python that allow you to get and set the value of an attribute. They are often used to control access to an attribute, or to perform some action when the attribute is accessed or changed"
   ]
  },
  {
   "cell_type": "code",
   "execution_count": 16,
   "id": "b95ac9bd-8faa-4a72-89b6-1335f950e166",
   "metadata": {},
   "outputs": [
    {
     "name": "stdout",
     "output_type": "stream",
     "text": [
      "Ajay singh\n",
      "Ajay singh\n"
     ]
    }
   ],
   "source": [
    "class Person:\n",
    "\n",
    "    def __init__(self, name):\n",
    "        self._name = name\n",
    "\n",
    "    @property\n",
    "    def name(self):\n",
    "        return self._name\n",
    "\n",
    "    @name.setter\n",
    "    def name(self, new_name):\n",
    "        self._name = new_name\n",
    "\n",
    "\n",
    "# Create a new Person object\n",
    "person = Person(\"Ajay singh\")\n",
    "\n",
    "# Get the name of the person\n",
    "print(person.name)\n",
    "\n",
    "# Set the name of the person\n",
    "person.name = \"Ajay singh\"\n",
    "\n",
    "# Get the name of the person again\n",
    "print(person.name)\n"
   ]
  },
  {
   "cell_type": "code",
   "execution_count": null,
   "id": "6aecf663-1312-467e-9a9b-436989c1f8de",
   "metadata": {},
   "outputs": [],
   "source": []
  }
 ],
 "metadata": {
  "kernelspec": {
   "display_name": "Python 3 (ipykernel)",
   "language": "python",
   "name": "python3"
  },
  "language_info": {
   "codemirror_mode": {
    "name": "ipython",
    "version": 3
   },
   "file_extension": ".py",
   "mimetype": "text/x-python",
   "name": "python",
   "nbconvert_exporter": "python",
   "pygments_lexer": "ipython3",
   "version": "3.10.8"
  }
 },
 "nbformat": 4,
 "nbformat_minor": 5
}
