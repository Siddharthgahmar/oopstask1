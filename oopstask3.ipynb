{
 "cells": [
  {
   "cell_type": "markdown",
   "id": "2a105e8a-9c9d-42c6-940b-6f1a100e7b9e",
   "metadata": {},
   "source": [
    "Q1. What is Abstraction in OOps? Explain with an example."
   ]
  },
  {
   "cell_type": "markdown",
   "id": "6a221565-ac6d-4f69-b837-4b231ff3f511",
   "metadata": {},
   "source": [
    "Ans-Abstraction is one of the four pillars of object-oriented programming (OOP). It is the process of hiding the implementation details of an object from its users. This allows users to focus on the object's functionality without having to worry about how it works.\n",
    "\n",
    "There are two types of abstraction in OOP:\n",
    "\n",
    "Data abstraction: This hides the data members of an object from its users. Only the methods of the object can access the data members.\n",
    "Method abstraction: This hides the implementation of a method from its users. Only the method's signature is visible to users.\n",
    "An example of data abstraction is a Car object. The Car object has many data members, such as the engine, the wheels, and the body. However, users of the Car object do not need to know about these data members. They can simply use the Car object's methods, such as start(), stop(), and drive()"
   ]
  },
  {
   "cell_type": "markdown",
   "id": "ef0e6b59-aff1-4964-9461-2423c1869960",
   "metadata": {},
   "source": [
    "Q2. Differentiate between Abstraction and Encapsulation. Explain with an example."
   ]
  },
  {
   "cell_type": "markdown",
   "id": "ab84d2c3-6aca-4333-90ec-192913bcc21f",
   "metadata": {},
   "source": [
    "Ans-Abstraction and encapsulation are two of the most important concepts in object-oriented programming (OOP). They are both used to hide implementation details from users of a class, but they do so in different ways.\n",
    "\n",
    "Abstraction is a way of hiding the complexity of a system by providing a simpler interface for users to interact with. For example, a car is a complex system with many moving parts, but users of a car do not need to know about all of these details in order to drive it. Instead, they can interact with the car through a simple interface, such as the steering wheel, pedals, and buttons.\n",
    "\n",
    "Encapsulation is a way of hiding the data within a class from users of that class. This is done by declaring the data as private, which means that it can only be accessed by methods within the class. Encapsulation allows developers to control how data is used, which can help to prevent errors and improve code readability"
   ]
  },
  {
   "cell_type": "markdown",
   "id": "6fcdadb7-54c5-4885-a5fb-235e973b2e30",
   "metadata": {},
   "source": [
    "Q3. What is abc module in python? Why is it used?"
   ]
  },
  {
   "cell_type": "markdown",
   "id": "fd75d639-ad3d-4085-a204-11f9044b45c4",
   "metadata": {},
   "source": [
    "Ans-The abc module in Python provides the infrastructure for defining abstract base classes (ABCs). ABCs are classes that cannot be instantiated, but they can be used to define a common interface for a set of classes. This can be useful for enforcing certain behaviors or for ensuring that all classes in a hierarchy have a certain set of methods."
   ]
  },
  {
   "cell_type": "markdown",
   "id": "2620d66c-defe-465a-a019-4edd2546e627",
   "metadata": {},
   "source": [
    "The abc module is a powerful tool that can be used to improve the design and implementation of object-oriented programs."
   ]
  },
  {
   "cell_type": "markdown",
   "id": "765002d4-d937-4fd9-bd87-dfe020bd83b6",
   "metadata": {},
   "source": [
    "Q4. How can we achieve data abstraction?"
   ]
  },
  {
   "cell_type": "markdown",
   "id": "c28dd4d8-3f28-42ca-8b9d-ebc7204b07bc",
   "metadata": {},
   "source": [
    "Ans-Their are 3 method achive  data abstraction\n",
    "(1)Abstract classes\n",
    "(2)Interfaces\n",
    "(3)Encapsulation"
   ]
  },
  {
   "cell_type": "markdown",
   "id": "837aebaf-ad29-42a9-9a85-ceca5b692a3f",
   "metadata": {},
   "source": [
    "Q5. Can we create an instance of an abstract class? Explain your answer."
   ]
  },
  {
   "cell_type": "markdown",
   "id": "3c44e689-8f62-48d6-8066-7ae8070c73e2",
   "metadata": {},
   "source": [
    "No, we cannot create an instance of an abstract class in Python. Abstract classes are used to define a blueprint for other classes, but they cannot be instantiated themselves. If we try to create an instance of an abstract class, we will get an error."
   ]
  }
 ],
 "metadata": {
  "kernelspec": {
   "display_name": "Python 3 (ipykernel)",
   "language": "python",
   "name": "python3"
  },
  "language_info": {
   "codemirror_mode": {
    "name": "ipython",
    "version": 3
   },
   "file_extension": ".py",
   "mimetype": "text/x-python",
   "name": "python",
   "nbconvert_exporter": "python",
   "pygments_lexer": "ipython3",
   "version": "3.10.8"
  }
 },
 "nbformat": 4,
 "nbformat_minor": 5
}
